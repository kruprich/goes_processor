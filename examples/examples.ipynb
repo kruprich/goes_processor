{
 "cells": [
  {
   "cell_type": "code",
   "execution_count": null,
   "metadata": {},
   "outputs": [],
   "source": [
    "import xarray as xr\n",
    "\n",
    "def extract_and_save_with_metadata(input_path, output_path, fields):\n",
    "    # Open the original NetCDF file\n",
    "    ds = xr.open_dataset(input_path, decode_times=False)\n",
    "    \n",
    "    # Check if all fields exist\n",
    "    missing_fields = [field for field in fields if field not in ds.variables]\n",
    "    if missing_fields:\n",
    "        raise ValueError(f\"Missing fields in NetCDF file: {missing_fields}, NetCDF file: {input_path}\")\n",
    "    \n",
    "    # Extract only the required fields\n",
    "    ds_subset = ds[fields]\n",
    "    \n",
    "    # Retain global attributes\n",
    "    ds_subset.attrs = ds.attrs\n",
    "    \n",
    "    # Save to a new NetCDF file\n",
    "    ds_subset.to_netcdf(output_path, format=\"NETCDF4\")\n",
    "    print(f\"Saved extracted data with metadata to {output_path}\")\n",
    "\n",
    "# Example usage\n",
    "input_file = \"path_to_goes16_file.nc\"\n",
    "output_file = '''/Users/kevinruprich/code/tmp/extracted_goes16_data_with_metadata.nc'''\n",
    "fields_to_extract = [\n",
    "    'flash_id', \n",
    "    'flash_time_offset_of_first_event', \n",
    "    'product_time', \n",
    "    'flash_lat', \n",
    "    'flash_lon', \n",
    "    'flash_quality_flag', \n",
    "    'flash_energy'\n",
    "]\n",
    "\n",
    "extract_and_save_with_metadata('''/Users/kevinruprich/code/tmp/2022/001/13/OR_GLM-L2-LCFA_G16_s20220011302000_e20220011302200_c20220011302226.nc''', output_file, fields_to_extract)"
   ]
  }
 ],
 "metadata": {
  "language_info": {
   "name": "python"
  }
 },
 "nbformat": 4,
 "nbformat_minor": 2
}
